{
 "cells": [
  {
   "cell_type": "code",
   "execution_count": 5,
   "id": "5c8475b1-14b0-4bb8-a6ec-07c83d3114a5",
   "metadata": {},
   "outputs": [
    {
     "name": "stdout",
     "output_type": "stream",
     "text": [
      "  CustomerID        CustomerName         Region  SignupDate\n",
      "0      C0001    Lawrence Carroll  South America  2022-07-10\n",
      "1      C0002      Elizabeth Lutz           Asia  2022-02-13\n",
      "2      C0003      Michael Rivera  South America  2024-03-07\n",
      "3      C0004  Kathleen Rodriguez  South America  2022-10-09\n",
      "4      C0005         Laura Weber           Asia  2022-08-15\n",
      "  ProductID              ProductName     Category   Price\n",
      "0      P001     ActiveWear Biography        Books  169.30\n",
      "1      P002    ActiveWear Smartwatch  Electronics  346.30\n",
      "2      P003  ComfortLiving Biography        Books   44.12\n",
      "3      P004            BookWorld Rug   Home Decor   95.69\n",
      "4      P005          TechPro T-Shirt     Clothing  429.31\n",
      "  TransactionID CustomerID ProductID      TransactionDate  Quantity  \\\n",
      "0        T00001      C0199      P067  2024-08-25 12:38:23         1   \n",
      "1        T00112      C0146      P067  2024-05-27 22:23:54         1   \n",
      "2        T00166      C0127      P067  2024-04-25 07:38:55         1   \n",
      "3        T00272      C0087      P067  2024-03-26 22:55:37         2   \n",
      "4        T00363      C0070      P067  2024-03-21 15:10:10         3   \n",
      "\n",
      "   TotalValue   Price  \n",
      "0      300.68  300.68  \n",
      "1      300.68  300.68  \n",
      "2      300.68  300.68  \n",
      "3      601.36  300.68  \n",
      "4      902.04  300.68  \n"
     ]
    }
   ],
   "source": [
    "import pandas as pd\n",
    "import numpy as np\n",
    "from sklearn.metrics.pairwise import cosine_similarity\n",
    "from sklearn.preprocessing import StandardScaler\n",
    "from collections import defaultdict\n",
    "\n",
    "# Load datasets\n",
    "customers = pd.read_csv('Customers.csv')\n",
    "products = pd.read_csv('Products.csv')\n",
    "transactions = pd.read_csv('Transactions.csv')\n",
    "\n",
    "# Preview data\n",
    "print(customers.head())\n",
    "print(products.head())\n",
    "print(transactions.head())\n"
   ]
  },
  {
   "cell_type": "code",
   "execution_count": 7,
   "id": "9d1ddfae-6342-491b-b219-938d416581ab",
   "metadata": {},
   "outputs": [
    {
     "name": "stdout",
     "output_type": "stream",
     "text": [
      "  CustomerID        CustomerName         Region  SignupDate  TotalSpend  \\\n",
      "0      C0001    Lawrence Carroll  South America  2022-07-10     3354.52   \n",
      "1      C0002      Elizabeth Lutz           Asia  2022-02-13     1862.74   \n",
      "2      C0003      Michael Rivera  South America  2024-03-07     2725.38   \n",
      "3      C0004  Kathleen Rodriguez  South America  2022-10-09     5354.88   \n",
      "4      C0005         Laura Weber           Asia  2022-08-15     2034.24   \n",
      "\n",
      "   TransactionFrequency  \n",
      "0                   5.0  \n",
      "1                   4.0  \n",
      "2                   4.0  \n",
      "3                   8.0  \n",
      "4                   3.0  \n"
     ]
    }
   ],
   "source": [
    "# Merging customers with transactions and products\n",
    "transactions = transactions.merge(customers, on='CustomerID', how='left')\n",
    "transactions = transactions.merge(products, on='ProductID', how='left')\n",
    "\n",
    "# Create a \"TotalSpend\" feature per customer\n",
    "customer_spend = transactions.groupby('CustomerID')['TotalValue'].sum().reset_index()\n",
    "customer_spend.columns = ['CustomerID', 'TotalSpend']\n",
    "\n",
    "# Create a \"Frequency\" feature per customer\n",
    "customer_freq = transactions.groupby('CustomerID')['TransactionID'].nunique().reset_index()\n",
    "customer_freq.columns = ['CustomerID', 'TransactionFrequency']\n",
    "\n",
    "# Merge all features into a single dataframe\n",
    "customer_features = customers.merge(customer_spend, on='CustomerID', how='left')\n",
    "customer_features = customer_features.merge(customer_freq, on='CustomerID', how='left')\n",
    "\n",
    "# Fill missing values with 0 for any customer with no transactions\n",
    "customer_features.fillna(0, inplace=True)\n",
    "\n",
    "# Preview the final feature set\n",
    "print(customer_features.head())\n"
   ]
  },
  {
   "cell_type": "code",
   "execution_count": 9,
   "id": "c418afd1-fd43-4330-bcb0-fb1d3ac6f24d",
   "metadata": {},
   "outputs": [
    {
     "name": "stdout",
     "output_type": "stream",
     "text": [
      "[[-0.05188436  0.         -0.53881591 -0.57735027 -0.54653573  1.54590766\n",
      "  -0.3211125  -1.04160638  1.55087763 -0.22104388]\n",
      " [-0.86271433 -0.45129368  1.85592145 -0.57735027 -0.54653573 -0.64686916\n",
      "  -1.22113205  0.77663634 -1.14846331  0.67666495]\n",
      " [-0.393842   -0.45129368 -0.53881591 -0.57735027 -0.54653573  1.54590766\n",
      "  -1.22113205 -0.13248502 -0.248683    0.67666495]\n",
      " [ 1.03537505  1.35388105 -0.53881591 -0.57735027 -0.54653573  1.54590766\n",
      "   1.47892659 -1.04160638  0.65109731  1.57437379]\n",
      " [-0.76949861 -0.90258736  1.85592145 -0.57735027 -0.54653573 -0.64686916\n",
      "  -1.22113205 -1.04160638  0.65109731 -0.22104388]]\n"
     ]
    }
   ],
   "source": [
    "# One-hot encoding for 'Region' and 'Category'\n",
    "customer_features = pd.get_dummies(customer_features, columns=['Region'])\n",
    "\n",
    "# One-hot encoding product categories\n",
    "category_counts = transactions.groupby(['CustomerID', 'Category']).size().unstack().fillna(0)\n",
    "category_counts.columns = [f\"Category_{col}\" for col in category_counts.columns]\n",
    "customer_features = customer_features.merge(category_counts, on='CustomerID', how='left')\n",
    "\n",
    "# Standardizing features (excluding 'CustomerID' and other non-numeric columns)\n",
    "features = customer_features.drop(['CustomerID', 'CustomerName', 'SignupDate'], axis=1)\n",
    "scaler = StandardScaler()\n",
    "features_scaled = scaler.fit_transform(features)\n",
    "\n",
    "# Preview the scaled features\n",
    "print(features_scaled[:5])\n"
   ]
  },
  {
   "cell_type": "code",
   "execution_count": null,
   "id": "47076e79-5838-4233-b4d0-bb51f650efaa",
   "metadata": {},
   "outputs": [],
   "source": []
  }
 ],
 "metadata": {
  "kernelspec": {
   "display_name": "Python 3 (ipykernel)",
   "language": "python",
   "name": "python3"
  },
  "language_info": {
   "codemirror_mode": {
    "name": "ipython",
    "version": 3
   },
   "file_extension": ".py",
   "mimetype": "text/x-python",
   "name": "python",
   "nbconvert_exporter": "python",
   "pygments_lexer": "ipython3",
   "version": "3.12.4"
  }
 },
 "nbformat": 4,
 "nbformat_minor": 5
}

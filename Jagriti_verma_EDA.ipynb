{
 "cells": [
  {
   "cell_type": "code",
   "execution_count": 15,
   "id": "622f1eb8-f608-417d-b2b2-af9c7941bd70",
   "metadata": {},
   "outputs": [],
   "source": [
    "import pandas as pd\n",
    "import numpy as np\n",
    "import matplotlib.pyplot as plt\n",
    "import seaborn as sns\n",
    "import warnings as wr\n",
    "wr.filterwarnings('ignore')"
   ]
  },
  {
   "cell_type": "code",
   "execution_count": 17,
   "id": "181e7099-0fb6-4880-8362-bac5e440bfce",
   "metadata": {},
   "outputs": [
    {
     "name": "stdout",
     "output_type": "stream",
     "text": [
      "Customers:\n",
      "   CustomerID        CustomerName         Region  SignupDate\n",
      "0      C0001    Lawrence Carroll  South America  2022-07-10\n",
      "1      C0002      Elizabeth Lutz           Asia  2022-02-13\n",
      "2      C0003      Michael Rivera  South America  2024-03-07\n",
      "3      C0004  Kathleen Rodriguez  South America  2022-10-09\n",
      "4      C0005         Laura Weber           Asia  2022-08-15\n",
      "Products:\n",
      "   ProductID              ProductName     Category   Price\n",
      "0      P001     ActiveWear Biography        Books  169.30\n",
      "1      P002    ActiveWear Smartwatch  Electronics  346.30\n",
      "2      P003  ComfortLiving Biography        Books   44.12\n",
      "3      P004            BookWorld Rug   Home Decor   95.69\n",
      "4      P005          TechPro T-Shirt     Clothing  429.31\n",
      "Transactions:\n",
      "   TransactionID CustomerID ProductID      TransactionDate  Quantity  \\\n",
      "0        T00001      C0199      P067  2024-08-25 12:38:23         1   \n",
      "1        T00112      C0146      P067  2024-05-27 22:23:54         1   \n",
      "2        T00166      C0127      P067  2024-04-25 07:38:55         1   \n",
      "3        T00272      C0087      P067  2024-03-26 22:55:37         2   \n",
      "4        T00363      C0070      P067  2024-03-21 15:10:10         3   \n",
      "\n",
      "   TotalValue   Price  \n",
      "0      300.68  300.68  \n",
      "1      300.68  300.68  \n",
      "2      300.68  300.68  \n",
      "3      601.36  300.68  \n",
      "4      902.04  300.68  \n"
     ]
    }
   ],
   "source": [
    "customers = pd.read_csv('Customers.csv')  # Customer details\n",
    "products = pd.read_csv('Products.csv')    # Product information\n",
    "transactions = pd.read_csv('Transactions.csv')  # Transaction details\n",
    "\n",
    "# Preview datasets\n",
    "print(\"Customers:\\n\", customers.head())\n",
    "print(\"Products:\\n\", products.head())\n",
    "print(\"Transactions:\\n\", transactions.head())\n"
   ]
  },
  {
   "cell_type": "code",
   "execution_count": 19,
   "id": "74fd040e-3553-4a81-acce-43d2db024772",
   "metadata": {},
   "outputs": [
    {
     "name": "stdout",
     "output_type": "stream",
     "text": [
      "Missing values in Customers:\n",
      " CustomerID      0\n",
      "CustomerName    0\n",
      "Region          0\n",
      "SignupDate      0\n",
      "dtype: int64\n",
      "Missing values in Products:\n",
      " ProductID      0\n",
      "ProductName    0\n",
      "Category       0\n",
      "Price          0\n",
      "dtype: int64\n",
      "Missing values in Transactions:\n",
      " TransactionID      0\n",
      "CustomerID         0\n",
      "ProductID          0\n",
      "TransactionDate    0\n",
      "Quantity           0\n",
      "TotalValue         0\n",
      "Price              0\n",
      "dtype: int64\n"
     ]
    }
   ],
   "source": [
    "print(\"Missing values in Customers:\\n\", customers.isnull().sum())\n",
    "print(\"Missing values in Products:\\n\", products.isnull().sum())\n",
    "print(\"Missing values in Transactions:\\n\", transactions.isnull().sum())"
   ]
  },
  {
   "cell_type": "code",
   "execution_count": null,
   "id": "34607717-197e-4272-b874-75cb8022fdae",
   "metadata": {},
   "outputs": [],
   "source": [
    "trans_prod = transactions.merge(products, on='product_id', how='left')\n",
    "\n",
    "# Merge transactions with customers\n",
    "full_data = trans_prod.merge(customers, on='customer_id', how='left')\n",
    "\n",
    "# 4. Check top-performing products\n",
    "top_products = full_data.groupby('product_name').agg(\n",
    "    total_quantity=('quantity', 'sum'),\n",
    "    total_revenue=('amount', 'sum')\n",
    ").sort_values(by='total_revenue', ascending=False)\n",
    "print(\"Top Products:\\n\", top_products.head())\n",
    "\n",
    "# 5. Analyze customer segments\n",
    "customer_segment_analysis = full_data.groupby('customer_segment').agg(\n",
    "    total_customers=('customer_id', 'nunique'),\n",
    "    total_revenue=('amount', 'sum'),\n",
    "    avg_revenue_per_customer=('amount', 'mean')\n",
    ").sort_values(by='total_revenue', ascending=False)\n",
    "print(\"Customer Segment Analysis:\\n\", customer_segment_analysis)\n",
    "\n",
    "# 6. Seasonal trends (sales by month)\n",
    "full_data['month'] = pd.to_datetime(full_data['date']).dt.month\n",
    "monthly_sales = full_data.groupby('month').agg(\n",
    "    total_revenue=('amount', 'sum'),\n",
    "    total_transactions=('transaction_id', 'nunique')\n",
    ").sort_values(by='total_revenue', ascending=False)\n",
    "print(\"Monthly Sales:\\n\", monthly_sales)\n",
    "\n",
    "# 7. Underperforming products\n",
    "underperforming_products = top_products[top_products['total_quantity'] == 0]\n",
    "print(\"Underperforming Products:\\n\", underperforming_products)\n",
    "\n",
    "# 8. Visualize revenue by product\n",
    "plt.figure(figsize=(10, 6))\n",
    "top_products['total_revenue'].head(10).plot(kind='bar', color='skyblue')\n",
    "plt.title(\"Top 10 Products by Revenue\")\n",
    "plt.xlabel(\"Product Name\")\n",
    "plt.ylabel(\"Revenue\")\n",
    "plt.show()"
   ]
  }
 ],
 "metadata": {
  "kernelspec": {
   "display_name": "Python 3 (ipykernel)",
   "language": "python",
   "name": "python3"
  },
  "language_info": {
   "codemirror_mode": {
    "name": "ipython",
    "version": 3
   },
   "file_extension": ".py",
   "mimetype": "text/x-python",
   "name": "python",
   "nbconvert_exporter": "python",
   "pygments_lexer": "ipython3",
   "version": "3.12.4"
  }
 },
 "nbformat": 4,
 "nbformat_minor": 5
}
